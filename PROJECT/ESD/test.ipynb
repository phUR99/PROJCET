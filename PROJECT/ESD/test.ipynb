{
 "cells": [
  {
   "cell_type": "code",
   "execution_count": 1,
   "metadata": {},
   "outputs": [
    {
     "name": "stderr",
     "output_type": "stream",
     "text": [
      "WARNING:root:Please consider to run pre-processing before quantization. Refer to example: https://github.com/microsoft/onnxruntime-inference-examples/blob/main/quantization/image_classification/cpu/ReadMe.md \n"
     ]
    },
    {
     "name": "stdout",
     "output_type": "stream",
     "text": [
      "Quantized model saved to model_int8.onnx\n"
     ]
    }
   ],
   "source": [
    "import onnx\n",
    "from onnxruntime.quantization import quantize_dynamic, QuantType\n",
    "\n",
    "# ONNX 모델 로드\n",
    "model_path = \"yolov5n.onnx\"\n",
    "onnx_model = onnx.load(model_path)\n",
    "\n",
    "# 양자화\n",
    "quantized_model_path = \"model_int8.onnx\"\n",
    "quantized_model = quantize_dynamic(\n",
    "    model_path,\n",
    "    quantized_model_path,\n",
    "    weight_type=QuantType.QInt8  # 또는 QuantType.QUInt8\n",
    ")\n",
    "\n",
    "print(f\"Quantized model saved to {quantized_model_path}\")\n"
   ]
  },
  {
   "cell_type": "code",
   "execution_count": 3,
   "metadata": {},
   "outputs": [],
   "source": [
    "import onnx\n",
    "from onnxsim import simplify\n",
    "\n",
    "# Load your ONNX model\n",
    "model_path = \"model.onnx\"\n",
    "model = onnx.load(\"model_int8.onnx\")\n",
    "\n",
    "# Simplify the model\n",
    "model_simp, check = simplify(model)\n",
    "\n",
    "# Save the simplified model\n",
    "onnx.save(model_simp, \"model_simplified.onnx\")\n",
    "\n",
    "assert check, \"Simplified ONNX model could not be validated\""
   ]
  }
 ],
 "metadata": {
  "kernelspec": {
   "display_name": "tf0331",
   "language": "python",
   "name": "python3"
  },
  "language_info": {
   "codemirror_mode": {
    "name": "ipython",
    "version": 3
   },
   "file_extension": ".py",
   "mimetype": "text/x-python",
   "name": "python",
   "nbconvert_exporter": "python",
   "pygments_lexer": "ipython3",
   "version": "3.9.19"
  }
 },
 "nbformat": 4,
 "nbformat_minor": 2
}
