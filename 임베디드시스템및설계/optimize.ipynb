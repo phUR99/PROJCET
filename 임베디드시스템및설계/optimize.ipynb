{
 "cells": [
  {
   "cell_type": "code",
   "execution_count": 24,
   "metadata": {},
   "outputs": [],
   "source": [
    "import onnx\n",
    "import onnxruntime\n",
    "from onnxconverter_common import auto_convert_mixed_precision, float16"
   ]
  },
  {
   "cell_type": "code",
   "execution_count": 29,
   "metadata": {},
   "outputs": [
    {
     "name": "stderr",
     "output_type": "stream",
     "text": [
      "c:\\Users\\CHR\\anaconda3\\envs\\tf0331\\lib\\site-packages\\onnxconverter_common\\float16.py:43: UserWarning: the float32 number 5.960464477539063e-08 will be truncated to 1e-07\n",
      "  warnings.warn(\"the float32 number {} will be truncated to {}\".format(pos_min, min_positive_val))\n"
     ]
    }
   ],
   "source": [
    "model_path = r\"C:\\Users\\CHR\\Documents\\GitHub\\PROJECT\\ESD\\yolov5-opencv-cpp-python\\config_files\\yolov5s-mobilenetV3.onnx\"\n",
    "model = onnx.load(model_path)\n",
    "model_fp16 = float16.convert_float_to_float16(model)\n",
    "onnx.save(model_fp16, \"model_fp16.onnx\")"
   ]
  }
 ],
 "metadata": {
  "kernelspec": {
   "display_name": "tf0331",
   "language": "python",
   "name": "python3"
  },
  "language_info": {
   "codemirror_mode": {
    "name": "ipython",
    "version": 3
   },
   "file_extension": ".py",
   "mimetype": "text/x-python",
   "name": "python",
   "nbconvert_exporter": "python",
   "pygments_lexer": "ipython3",
   "version": "3.9.19"
  }
 },
 "nbformat": 4,
 "nbformat_minor": 2
}
